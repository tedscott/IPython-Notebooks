{
 "cells": [
  {
   "cell_type": "code",
   "execution_count": 3,
   "metadata": {
    "collapsed": true
   },
   "outputs": [],
   "source": [
    "import pandas as pd\n",
    "import numpy as np\n",
    "import re\n",
    "import matplotlib\n",
    "import os.path"
   ]
  },
  {
   "cell_type": "code",
   "execution_count": 12,
   "metadata": {
    "collapsed": true
   },
   "outputs": [],
   "source": [
    "pathName=\"C:/GIT/IPython-Notebooks/\"\n",
    "fileName = \"physics_class.txt\"\n",
    "filePath = os.path.join(pathName, fileName)\n",
    "st_olaf_class = open(filePath).read()"
   ]
  },
  {
   "cell_type": "code",
   "execution_count": 13,
   "metadata": {
    "collapsed": false
   },
   "outputs": [
    {
     "data": {
      "text/plain": [
       "\"PHYS 124: Principles of Physics I\\nThis two-semester in-depth course addresses topics in classical and modern physics using algebra, geometry, and some calculus. The course is well suited for students of biology or chemistry or for those desiring a thorough introduction beyond the high school level. Physics 124 takes up the Newtonian mechanics of point particles (motion, mass, force, torque, energy, momentum, and gravitation), Einstein's reexamination of space time (relativity), and nuclear physics. One laboratory per week. Offered annually in the fall semester.\\nPrerequisite: MATH 119 or MATH 120 or equivalent.\""
      ]
     },
     "execution_count": 13,
     "metadata": {},
     "output_type": "execute_result"
    }
   ],
   "source": [
    "st_olaf_class"
   ]
  },
  {
   "cell_type": "code",
   "execution_count": 37,
   "metadata": {
    "collapsed": false
   },
   "outputs": [],
   "source": [
    "# find all chunks that are 4 capital letters, followed by a space, followed by 3 digits\n",
    "matches=re.findall('[A-Z]{4} [0-9][0-9][0-9]',st_olaf_class)"
   ]
  },
  {
   "cell_type": "code",
   "execution_count": 41,
   "metadata": {
    "collapsed": false
   },
   "outputs": [],
   "source": [
    "# loop through the list of matches up until, but not including the last one, and add a \";\"\n",
    "# for the last one, don't add the \";\"\n",
    "prereqs=[]\n",
    "i=0\n",
    "while i < len(matches)-1:\n",
    "    prereqs.append(matches[i]+';')\n",
    "    i+=1\n",
    "prereqs.append(matches[i])"
   ]
  },
  {
   "cell_type": "code",
   "execution_count": 42,
   "metadata": {
    "collapsed": false
   },
   "outputs": [
    {
     "data": {
      "text/plain": [
       "['PHYS 124;', 'MATH 119;', 'MATH 120']"
      ]
     },
     "execution_count": 42,
     "metadata": {},
     "output_type": "execute_result"
    }
   ],
   "source": [
    "prereqs"
   ]
  },
  {
   "cell_type": "code",
   "execution_count": 43,
   "metadata": {
    "collapsed": false
   },
   "outputs": [
    {
     "data": {
      "text/plain": [
       "['MATH 119']"
      ]
     },
     "execution_count": 43,
     "metadata": {},
     "output_type": "execute_result"
    }
   ],
   "source": [
    "# test that it works even if there is only one prerequisite\n",
    "# it should not add a \";\"\n",
    "thing=\"Prerequisite: MATH 119\"\n",
    "matches=re.findall('[A-Z]{4} [0-9][0-9][0-9]',thing)\n",
    "prereqs=[]\n",
    "i=0\n",
    "while i < len(matches)-1:\n",
    "    prereqs.append(matches[i]+';')\n",
    "    i+=1\n",
    "prereqs.append(matches[i])\n",
    "prereqs\n",
    "# it works!"
   ]
  }
 ],
 "metadata": {
  "kernelspec": {
   "display_name": "Python 3",
   "language": "python",
   "name": "python3"
  },
  "language_info": {
   "codemirror_mode": {
    "name": "ipython",
    "version": 3
   },
   "file_extension": ".py",
   "mimetype": "text/x-python",
   "name": "python",
   "nbconvert_exporter": "python",
   "pygments_lexer": "ipython3",
   "version": "3.5.1"
  }
 },
 "nbformat": 4,
 "nbformat_minor": 0
}
